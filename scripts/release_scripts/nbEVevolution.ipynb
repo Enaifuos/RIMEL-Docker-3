{
 "cells": [
  {
   "cell_type": "code",
   "execution_count": 1,
   "metadata": {},
   "outputs": [],
   "source": [
    "import os\n",
    "import json\n",
    "import matplotlib.pyplot as plt"
   ]
  },
  {
   "cell_type": "markdown",
   "metadata": {},
   "source": [
    "Configure paths"
   ]
  },
  {
   "cell_type": "code",
   "execution_count": 2,
   "metadata": {},
   "outputs": [],
   "source": [
    "project_path = '../../../thingsboard'\n",
    "current_path_from_project_path = '../RIMEL-Docker-3/scripts/release_scripts'\n",
    "project_env_files_path = './docker'\n",
    "script_tag_path = '../script_tag.sh'\n",
    "tags_path = './tags.json'"
   ]
  },
  {
   "cell_type": "markdown",
   "metadata": {},
   "source": [
    "Count the number of EV variables"
   ]
  },
  {
   "cell_type": "code",
   "execution_count": 3,
   "metadata": {},
   "outputs": [],
   "source": [
    "# Counts the number of environment variables in a directory \n",
    "# Suggesting that all EV are stored in .env files"
   ]
  },
  {
   "cell_type": "code",
   "execution_count": 4,
   "metadata": {},
   "outputs": [],
   "source": [
    "def is_EV(line):\n",
    "    if line[0] == '#' or not line.strip():\n",
    "        return False\n",
    "    else:\n",
    "        return True"
   ]
  },
  {
   "cell_type": "code",
   "execution_count": 5,
   "metadata": {},
   "outputs": [],
   "source": [
    "def get_EV_declaration_files():\n",
    "    files = []\n",
    "    for r, d, f in os.walk('.'):\n",
    "        for file in f:\n",
    "            if '.env' in file:\n",
    "                files.append(os.path.join(r, file))\n",
    "    return files  "
   ]
  },
  {
   "cell_type": "code",
   "execution_count": 6,
   "metadata": {},
   "outputs": [],
   "source": [
    "def count_EV(files_paths):\n",
    "    nb_EV = 0\n",
    "    for file_path in files_paths:\n",
    "        file = open(file_path, 'r')\n",
    "        for line in file:\n",
    "            if is_EV(line):\n",
    "                nb_EV += 1\n",
    "    return nb_EV"
   ]
  },
  {
   "cell_type": "code",
   "execution_count": 7,
   "metadata": {},
   "outputs": [],
   "source": [
    "def get_nb_of_EV():\n",
    "    files = get_EV_declaration_files()\n",
    "    return count_EV(files)"
   ]
  },
  {
   "cell_type": "markdown",
   "metadata": {},
   "source": [
    "Count the nb of EV in a directory"
   ]
  },
  {
   "cell_type": "code",
   "execution_count": 8,
   "metadata": {},
   "outputs": [],
   "source": [
    "def count(directory):\n",
    "    releases = []\n",
    "    nbEV = []\n",
    "    \n",
    "    f = open(tags_path, 'r')\n",
    "    logs_json = json.load(f)\n",
    "    \n",
    "    %cd $project_path\n",
    "    \n",
    "    for release in logs_json:\n",
    "        commit = logs_json[release]\n",
    "        !git checkout $commit\n",
    "        \n",
    "        releases.append(release)\n",
    "        nbEV.append(get_nb_of_EV())\n",
    "        \n",
    "    !git checkout master\n",
    "    %cd $current_path_from_project_path\n",
    "    return releases, nbEV"
   ]
  },
  {
   "cell_type": "markdown",
   "metadata": {},
   "source": [
    "Run script"
   ]
  },
  {
   "cell_type": "code",
   "execution_count": 9,
   "metadata": {},
   "outputs": [
    {
     "data": {
      "text/plain": [
       "32512"
      ]
     },
     "execution_count": 9,
     "metadata": {},
     "output_type": "execute_result"
    }
   ],
   "source": [
    "#Generating tags.json\n",
    "os.system(script_tag_path + ' ' + project_path)"
   ]
  },
  {
   "cell_type": "code",
   "execution_count": 10,
   "metadata": {},
   "outputs": [],
   "source": [
    "%%capture\n",
    "releases, nbEV = count(project_env_files_path)"
   ]
  },
  {
   "cell_type": "code",
   "execution_count": 18,
   "metadata": {},
   "outputs": [
    {
     "data": {
      "image/png": "[encoded data removed]",
      "text/plain": [
       "<Figure size 432x288 with 1 Axes>"
      ]
     },
     "metadata": {},
     "output_type": "display_data"
    },
    {
     "data": {
      "text/plain": [
       "<Figure size 1440x1440 with 0 Axes>"
      ]
     },
     "metadata": {},
     "output_type": "display_data"
    }
   ],
   "source": [
    "plt.style.use('ggplot')\n",
    "plt.plot(releases, nbEV, color='red')\n",
    "plt.title(\"Variation of the nb of EV according to releases\")\n",
    "plt.xlabel(\"Releases\")\n",
    "plt.ylabel(\"Nb of EV\")\n",
    "\n",
    "plt.show()"
   ]
  },
  {
   "cell_type": "code",
   "execution_count": null,
   "metadata": {},
   "outputs": [],
   "source": []
  }
 ],
 "metadata": {
  "kernelspec": {
   "display_name": "Python 3",
   "language": "python",
   "name": "python3"
  },
  "language_info": {
   "codemirror_mode": {
    "name": "ipython",
    "version": 3
   },
   "file_extension": ".py",
   "mimetype": "text/x-python",
   "name": "python",
   "nbconvert_exporter": "python",
   "pygments_lexer": "ipython3",
   "version": "3.6.9"
  }
 },
 "nbformat": 4,
 "nbformat_minor": 2
}
